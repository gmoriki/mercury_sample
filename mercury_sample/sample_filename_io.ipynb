{
 "cells": [
  {
   "cell_type": "raw",
   "id": "cf3b97f9",
   "metadata": {},
   "source": [
    "---\n",
    "title: sample_filename_io\n",
    "description: notebook with i/o widets\n",
    "show-code: True\n",
    "params:\n",
    "    filename:                                           \n",
    "        label: This is file label\n",
    "        input: file\n",
    "        maxFileSize: 1MB\n",
    "    output_dir:\n",
    "        output: dir\n",
    "---"
   ]
  },
  {
   "attachments": {},
   "cell_type": "markdown",
   "id": "ad48da21",
   "metadata": {},
   "source": [
    "# 読み込んだファイルに列を追加してファイル出力します"
   ]
  },
  {
   "cell_type": "code",
   "execution_count": 7,
   "id": "453f2563",
   "metadata": {},
   "outputs": [],
   "source": [
    "filename =\"./input/input_file.xlsx\"\n",
    "output_dir = \"example_output_directory\""
   ]
  },
  {
   "cell_type": "code",
   "execution_count": 16,
   "id": "707343d5",
   "metadata": {},
   "outputs": [],
   "source": [
    "import pandas as pd\n",
    "\n",
    "df = pd.read_excel(filename)"
   ]
  },
  {
   "attachments": {},
   "cell_type": "markdown",
   "id": "83fa291a",
   "metadata": {},
   "source": [
    "読み込んだファイルがこちら"
   ]
  },
  {
   "cell_type": "code",
   "execution_count": 17,
   "id": "3e8cddea",
   "metadata": {},
   "outputs": [
    {
     "data": {
      "text/html": [
       "<div>\n",
       "<style scoped>\n",
       "    .dataframe tbody tr th:only-of-type {\n",
       "        vertical-align: middle;\n",
       "    }\n",
       "\n",
       "    .dataframe tbody tr th {\n",
       "        vertical-align: top;\n",
       "    }\n",
       "\n",
       "    .dataframe thead th {\n",
       "        text-align: right;\n",
       "    }\n",
       "</style>\n",
       "<table border=\"1\" class=\"dataframe\">\n",
       "  <thead>\n",
       "    <tr style=\"text-align: right;\">\n",
       "      <th></th>\n",
       "      <th>column1</th>\n",
       "      <th>column2</th>\n",
       "    </tr>\n",
       "  </thead>\n",
       "  <tbody>\n",
       "    <tr>\n",
       "      <th>0</th>\n",
       "      <td>one</td>\n",
       "      <td>apple</td>\n",
       "    </tr>\n",
       "    <tr>\n",
       "      <th>1</th>\n",
       "      <td>two</td>\n",
       "      <td>orange</td>\n",
       "    </tr>\n",
       "    <tr>\n",
       "      <th>2</th>\n",
       "      <td>three</td>\n",
       "      <td>grape</td>\n",
       "    </tr>\n",
       "  </tbody>\n",
       "</table>\n",
       "</div>"
      ],
      "text/plain": [
       "  column1 column2\n",
       "0     one   apple\n",
       "1     two  orange\n",
       "2   three   grape"
      ]
     },
     "execution_count": 17,
     "metadata": {},
     "output_type": "execute_result"
    }
   ],
   "source": [
    "df"
   ]
  },
  {
   "attachments": {},
   "cell_type": "markdown",
   "id": "8ba152a4",
   "metadata": {},
   "source": [
    "ファイルに列を追加します"
   ]
  },
  {
   "cell_type": "code",
   "execution_count": 18,
   "id": "a7e88a7a",
   "metadata": {},
   "outputs": [
    {
     "data": {
      "text/html": [
       "<div>\n",
       "<style scoped>\n",
       "    .dataframe tbody tr th:only-of-type {\n",
       "        vertical-align: middle;\n",
       "    }\n",
       "\n",
       "    .dataframe tbody tr th {\n",
       "        vertical-align: top;\n",
       "    }\n",
       "\n",
       "    .dataframe thead th {\n",
       "        text-align: right;\n",
       "    }\n",
       "</style>\n",
       "<table border=\"1\" class=\"dataframe\">\n",
       "  <thead>\n",
       "    <tr style=\"text-align: right;\">\n",
       "      <th></th>\n",
       "      <th>column1</th>\n",
       "      <th>column2</th>\n",
       "      <th>added_columns</th>\n",
       "    </tr>\n",
       "  </thead>\n",
       "  <tbody>\n",
       "    <tr>\n",
       "      <th>0</th>\n",
       "      <td>one</td>\n",
       "      <td>apple</td>\n",
       "      <td>oneapple</td>\n",
       "    </tr>\n",
       "    <tr>\n",
       "      <th>1</th>\n",
       "      <td>two</td>\n",
       "      <td>orange</td>\n",
       "      <td>twoorange</td>\n",
       "    </tr>\n",
       "    <tr>\n",
       "      <th>2</th>\n",
       "      <td>three</td>\n",
       "      <td>grape</td>\n",
       "      <td>threegrape</td>\n",
       "    </tr>\n",
       "  </tbody>\n",
       "</table>\n",
       "</div>"
      ],
      "text/plain": [
       "  column1 column2 added_columns\n",
       "0     one   apple      oneapple\n",
       "1     two  orange     twoorange\n",
       "2   three   grape    threegrape"
      ]
     },
     "execution_count": 18,
     "metadata": {},
     "output_type": "execute_result"
    }
   ],
   "source": [
    "df['added_columns'] = df['column1'] + df['column2']\n",
    "df"
   ]
  },
  {
   "cell_type": "code",
   "execution_count": null,
   "id": "1f26c869",
   "metadata": {},
   "outputs": [],
   "source": [
    "df.to_excel(output_dir + '\\output_file.xlsx',index=False)\n",
    "print('出力が完了しました')"
   ]
  }
 ],
 "metadata": {
  "kernelspec": {
   "display_name": ".gmoriki",
   "language": "python",
   "name": "python3"
  },
  "language_info": {
   "codemirror_mode": {
    "name": "ipython",
    "version": 3
   },
   "file_extension": ".py",
   "mimetype": "text/x-python",
   "name": "python",
   "nbconvert_exporter": "python",
   "pygments_lexer": "ipython3",
   "version": "3.10.1 (tags/v3.10.1:2cd268a, Dec  6 2021, 19:10:37) [MSC v.1929 64 bit (AMD64)]"
  },
  "vscode": {
   "interpreter": {
    "hash": "486402dc54e6a864f3cf69158e5fdd43f9088ec6ee6eb1fe13dec426eff76a73"
   }
  }
 },
 "nbformat": 4,
 "nbformat_minor": 5
}
